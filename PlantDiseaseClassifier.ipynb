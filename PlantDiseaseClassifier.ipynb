{
 "cells": [
  {
   "cell_type": "code",
   "execution_count": 1,
   "id": "c0d7004f-941a-4bf7-883e-0cb09dcc7b45",
   "metadata": {},
   "outputs": [],
   "source": [
    "import tensorflow as tf \n",
    "from tensorflow import keras\n",
    "import numpy as np"
   ]
  },
  {
   "cell_type": "code",
   "execution_count": 4,
   "id": "d5f535c8-3d4f-4ae4-a52a-f2760e120070",
   "metadata": {},
   "outputs": [
    {
     "data": {
      "text/plain": [
       "'2.10.1'"
      ]
     },
     "execution_count": 4,
     "metadata": {},
     "output_type": "execute_result"
    }
   ],
   "source": [
    "tf.__version__"
   ]
  },
  {
   "cell_type": "code",
   "execution_count": 5,
   "id": "d232007b-2e57-4fef-b2ee-2c5ea7133911",
   "metadata": {},
   "outputs": [
    {
     "data": {
      "text/plain": [
       "'2.10.0'"
      ]
     },
     "execution_count": 5,
     "metadata": {},
     "output_type": "execute_result"
    }
   ],
   "source": [
    "keras.__version__"
   ]
  },
  {
   "cell_type": "code",
   "execution_count": 6,
   "id": "e9b2dc95-68ac-48f6-8553-e575355e69db",
   "metadata": {},
   "outputs": [
    {
     "data": {
      "text/plain": [
       "[PhysicalDevice(name='/physical_device:GPU:0', device_type='GPU')]"
      ]
     },
     "execution_count": 6,
     "metadata": {},
     "output_type": "execute_result"
    }
   ],
   "source": [
    "tf.config.list_physical_devices('GPU')"
   ]
  },
  {
   "cell_type": "code",
   "execution_count": 6,
   "id": "df0ac97e-d940-4d7a-aafd-4fd7bb7e5b49",
   "metadata": {},
   "outputs": [
    {
     "name": "stdout",
     "output_type": "stream",
     "text": [
      "Found 70295 files belonging to 38 classes.\n"
     ]
    }
   ],
   "source": [
    "training_dataset = tf.keras.utils.image_dataset_from_directory(\n",
    "    'train',\n",
    "    labels=\"inferred\",\n",
    "    label_mode=\"categorical\",  # Change label_mode to \"categorical\" for multi-class classification\n",
    "    class_names=None,\n",
    "    color_mode=\"rgb\",\n",
    "    batch_size=32,\n",
    "    image_size=(128, 128),\n",
    "    shuffle=True,\n",
    "    seed=None,\n",
    "    validation_split=None,\n",
    "    subset=None,\n",
    "    interpolation=\"bilinear\",\n",
    "    follow_links=False,\n",
    "    crop_to_aspect_ratio=False,\n",
    ")"
   ]
  },
  {
   "cell_type": "code",
   "execution_count": 7,
   "id": "6dd486ed-f9ec-4304-a994-80919d118da3",
   "metadata": {},
   "outputs": [
    {
     "data": {
      "text/plain": [
       "<BatchDataset element_spec=(TensorSpec(shape=(None, 128, 128, 3), dtype=tf.float32, name=None), TensorSpec(shape=(None, 38), dtype=tf.float32, name=None))>"
      ]
     },
     "execution_count": 7,
     "metadata": {},
     "output_type": "execute_result"
    }
   ],
   "source": [
    "training_dataset"
   ]
  },
  {
   "cell_type": "code",
   "execution_count": 8,
   "id": "f4ee0743-5004-47e2-b092-26211186c4d1",
   "metadata": {},
   "outputs": [
    {
     "name": "stdout",
     "output_type": "stream",
     "text": [
      "Found 17572 files belonging to 38 classes.\n"
     ]
    }
   ],
   "source": [
    "validation_dataset = tf.keras.utils.image_dataset_from_directory(\n",
    "    'valid',\n",
    "    labels=\"inferred\",\n",
    "    label_mode=\"categorical\",\n",
    "    class_names=None,\n",
    "    color_mode=\"rgb\",\n",
    "    batch_size=32,\n",
    "    image_size=(128, 128),\n",
    "    shuffle=True,\n",
    "    seed=None,\n",
    "    validation_split=None,\n",
    "    subset=None,\n",
    "    interpolation=\"bilinear\",\n",
    "    follow_links=False,\n",
    "    crop_to_aspect_ratio=False,\n",
    ")"
   ]
  },
  {
   "cell_type": "code",
   "execution_count": 9,
   "id": "103456ae-fbe3-4c88-9f3b-2f71edcbb876",
   "metadata": {},
   "outputs": [
    {
     "name": "stdout",
     "output_type": "stream",
     "text": [
      "tf.Tensor(\n",
      "[[[[161.75 154.75 148.75]\n",
      "   [167.   160.   154.  ]\n",
      "   [171.5  164.5  158.5 ]\n",
      "   ...\n",
      "   [173.5  166.5  160.5 ]\n",
      "   [173.5  166.5  160.5 ]\n",
      "   [172.5  165.5  159.5 ]]\n",
      "\n",
      "  [[163.   156.   150.  ]\n",
      "   [165.25 158.25 152.25]\n",
      "   [166.5  159.5  153.5 ]\n",
      "   ...\n",
      "   [172.75 165.75 159.75]\n",
      "   [172.75 165.75 159.75]\n",
      "   [171.5  164.5  158.5 ]]\n",
      "\n",
      "  [[164.25 157.25 151.25]\n",
      "   [163.75 156.75 150.75]\n",
      "   [163.5  156.5  150.5 ]\n",
      "   ...\n",
      "   [173.25 166.25 160.25]\n",
      "   [173.25 166.25 160.25]\n",
      "   [172.   165.   159.  ]]\n",
      "\n",
      "  ...\n",
      "\n",
      "  [[125.   120.   117.  ]\n",
      "   [113.   108.   105.  ]\n",
      "   [107.   102.    99.  ]\n",
      "   ...\n",
      "   [133.25 128.25 125.25]\n",
      "   [134.5  129.5  126.5 ]\n",
      "   [132.75 127.75 124.75]]\n",
      "\n",
      "  [[122.75 117.75 114.75]\n",
      "   [113.75 108.75 105.75]\n",
      "   [115.75 110.75 107.75]\n",
      "   ...\n",
      "   [136.75 131.75 128.75]\n",
      "   [131.75 126.75 123.75]\n",
      "   [133.75 128.75 125.75]]\n",
      "\n",
      "  [[116.5  111.5  108.5 ]\n",
      "   [119.5  114.5  111.5 ]\n",
      "   [127.5  122.5  119.5 ]\n",
      "   ...\n",
      "   [140.25 135.25 132.25]\n",
      "   [138.5  133.5  130.5 ]\n",
      "   [132.5  127.5  124.5 ]]]\n",
      "\n",
      "\n",
      " [[[253.5  253.5  253.5 ]\n",
      "   [254.   254.   254.  ]\n",
      "   [255.   255.   255.  ]\n",
      "   ...\n",
      "   [255.   255.   255.  ]\n",
      "   [255.   255.   255.  ]\n",
      "   [255.   255.   255.  ]]\n",
      "\n",
      "  [[255.   255.   255.  ]\n",
      "   [255.   255.   255.  ]\n",
      "   [254.   254.   254.  ]\n",
      "   ...\n",
      "   [255.   255.   255.  ]\n",
      "   [255.   255.   255.  ]\n",
      "   [255.   255.   255.  ]]\n",
      "\n",
      "  [[255.   255.   255.  ]\n",
      "   [255.   255.   255.  ]\n",
      "   [254.   254.   254.  ]\n",
      "   ...\n",
      "   [255.   255.   255.  ]\n",
      "   [255.   255.   255.  ]\n",
      "   [255.   255.   255.  ]]\n",
      "\n",
      "  ...\n",
      "\n",
      "  [[226.75 206.5  228.75]\n",
      "   [229.75 210.5  231.75]\n",
      "   [215.25 190.25 218.75]\n",
      "   ...\n",
      "   [240.75 227.75 241.75]\n",
      "   [219.75 206.75 220.75]\n",
      "   [249.75 238.   250.25]]\n",
      "\n",
      "  [[230.   208.5  233.  ]\n",
      "   [214.   195.5  216.  ]\n",
      "   [232.5  208.5  235.5 ]\n",
      "   ...\n",
      "   [216.   200.75 217.5 ]\n",
      "   [250.5  237.75 251.  ]\n",
      "   [252.75 240.75 253.25]]\n",
      "\n",
      "  [[200.   176.75 203.  ]\n",
      "   [223.   198.   227.  ]\n",
      "   [206.25 181.5  209.25]\n",
      "   ...\n",
      "   [211.25 196.   212.75]\n",
      "   [233.75 221.75 234.25]\n",
      "   [248.75 236.   249.25]]]\n",
      "\n",
      "\n",
      " [[[181.25 184.25 191.25]\n",
      "   [181.   184.   191.  ]\n",
      "   [183.25 186.25 193.25]\n",
      "   ...\n",
      "   [204.   198.   200.  ]\n",
      "   [205.75 199.75 201.75]\n",
      "   [206.75 200.75 202.75]]\n",
      "\n",
      "  [[181.75 184.75 191.75]\n",
      "   [177.5  180.5  187.5 ]\n",
      "   [179.5  182.5  189.5 ]\n",
      "   ...\n",
      "   [207.5  201.5  203.5 ]\n",
      "   [209.   203.   205.  ]\n",
      "   [207.5  201.5  203.5 ]]\n",
      "\n",
      "  [[182.   185.   192.  ]\n",
      "   [183.25 186.25 193.25]\n",
      "   [185.25 188.25 195.25]\n",
      "   ...\n",
      "   [207.25 201.25 203.25]\n",
      "   [209.25 203.25 205.25]\n",
      "   [209.25 203.25 205.25]]\n",
      "\n",
      "  ...\n",
      "\n",
      "  [[102.75  97.75 104.75]\n",
      "   [102.5   97.5  104.5 ]\n",
      "   [ 95.    90.    97.  ]\n",
      "   ...\n",
      "   [104.    99.   105.  ]\n",
      "   [ 96.75  91.75  97.75]\n",
      "   [ 97.5   92.5   98.5 ]]\n",
      "\n",
      "  [[ 94.25  89.25  96.25]\n",
      "   [ 95.    90.    97.  ]\n",
      "   [ 94.5   89.5   96.5 ]\n",
      "   ...\n",
      "   [100.25  95.25 101.25]\n",
      "   [ 98.25  93.25  99.25]\n",
      "   [ 95.75  90.75  96.75]]\n",
      "\n",
      "  [[ 91.5   86.5   93.5 ]\n",
      "   [ 91.75  86.75  93.75]\n",
      "   [ 95.    90.    97.  ]\n",
      "   ...\n",
      "   [ 98.    93.    99.  ]\n",
      "   [ 98.    93.    99.  ]\n",
      "   [ 94.75  89.75  95.75]]]\n",
      "\n",
      "\n",
      " ...\n",
      "\n",
      "\n",
      " [[[129.   122.   130.  ]\n",
      "   [130.25 123.25 131.25]\n",
      "   [130.75 123.75 131.75]\n",
      "   ...\n",
      "   [136.25 123.75  96.25]\n",
      "   [165.5  147.5  123.5 ]\n",
      "   [152.5  131.   107.75]]\n",
      "\n",
      "  [[132.25 125.25 133.25]\n",
      "   [133.25 126.25 134.25]\n",
      "   [133.   126.   134.  ]\n",
      "   ...\n",
      "   [123.75 110.5   85.25]\n",
      "   [145.5  127.5  105.5 ]\n",
      "   [133.5  112.5   91.5 ]]\n",
      "\n",
      "  [[135.5  128.5  136.5 ]\n",
      "   [135.5  128.5  136.5 ]\n",
      "   [134.5  127.5  135.5 ]\n",
      "   ...\n",
      "   [150.75 136.5  114.75]\n",
      "   [144.75 127.   107.  ]\n",
      "   [147.5  126.5  107.5 ]]\n",
      "\n",
      "  ...\n",
      "\n",
      "  [[155.   145.   153.  ]\n",
      "   [154.25 144.25 152.25]\n",
      "   [152.75 142.75 150.75]\n",
      "   ...\n",
      "   [101.5  116.5   87.75]\n",
      "   [101.75 115.75  87.25]\n",
      "   [101.5  110.75  83.75]]\n",
      "\n",
      "  [[152.   142.   150.  ]\n",
      "   [151.75 141.75 149.75]\n",
      "   [151.25 141.25 149.25]\n",
      "   ...\n",
      "   [100.75 121.25  93.  ]\n",
      "   [ 95.25 109.75  81.25]\n",
      "   [100.25 107.75  81.25]]\n",
      "\n",
      "  [[150.75 140.75 148.75]\n",
      "   [152.   142.   150.  ]\n",
      "   [153.75 143.75 151.75]\n",
      "   ...\n",
      "   [101.5  125.    95.75]\n",
      "   [ 89.75 104.25  77.75]\n",
      "   [104.75 109.75  84.25]]]\n",
      "\n",
      "\n",
      " [[[114.75 113.75 119.75]\n",
      "   [121.   120.   126.  ]\n",
      "   [122.25 121.25 127.25]\n",
      "   ...\n",
      "   [149.75 156.75 166.75]\n",
      "   [143.75 150.75 160.75]\n",
      "   [145.5  152.5  162.5 ]]\n",
      "\n",
      "  [[113.75 112.75 118.75]\n",
      "   [124.   123.   129.  ]\n",
      "   [116.25 115.25 121.25]\n",
      "   ...\n",
      "   [147.   154.   164.  ]\n",
      "   [147.75 154.75 164.75]\n",
      "   [145.5  152.5  162.5 ]]\n",
      "\n",
      "  [[116.5  115.5  121.5 ]\n",
      "   [132.5  131.5  137.5 ]\n",
      "   [125.75 124.75 130.75]\n",
      "   ...\n",
      "   [144.25 151.25 161.25]\n",
      "   [145.   152.   162.  ]\n",
      "   [144.   151.   161.  ]]\n",
      "\n",
      "  ...\n",
      "\n",
      "  [[ 34.25  32.25  35.25]\n",
      "   [ 35.25  33.25  36.25]\n",
      "   [ 35.25  33.25  36.25]\n",
      "   ...\n",
      "   [103.25 119.25  95.75]\n",
      "   [ 91.5  111.75  88.  ]\n",
      "   [ 80.5  103.75  79.  ]]\n",
      "\n",
      "  [[ 34.25  32.25  35.25]\n",
      "   [ 35.25  33.25  36.25]\n",
      "   [ 35.25  33.25  36.25]\n",
      "   ...\n",
      "   [ 93.   109.    83.5 ]\n",
      "   [ 78.75  99.25  72.  ]\n",
      "   [ 84.5  108.5   79.5 ]]\n",
      "\n",
      "  [[ 35.75  33.75  36.75]\n",
      "   [ 36.75  34.75  37.75]\n",
      "   [ 36.75  34.75  37.75]\n",
      "   ...\n",
      "   [ 79.    95.5   68.5 ]\n",
      "   [ 88.   109.5   79.  ]\n",
      "   [ 90.75 115.25  83.25]]]\n",
      "\n",
      "\n",
      " [[[155.25 145.25 156.25]\n",
      "   [150.   140.   151.  ]\n",
      "   [149.   139.   150.  ]\n",
      "   ...\n",
      "   [163.75 153.75 164.75]\n",
      "   [150.25 140.25 151.25]\n",
      "   [153.5  143.5  154.5 ]]\n",
      "\n",
      "  [[154.5  144.5  155.5 ]\n",
      "   [156.75 146.75 157.75]\n",
      "   [157.   147.   158.  ]\n",
      "   ...\n",
      "   [155.5  145.5  156.5 ]\n",
      "   [152.   142.   153.  ]\n",
      "   [161.25 151.25 162.25]]\n",
      "\n",
      "  [[151.   141.   152.  ]\n",
      "   [157.75 147.75 158.75]\n",
      "   [148.   138.   149.  ]\n",
      "   ...\n",
      "   [154.75 144.75 155.75]\n",
      "   [158.25 148.25 159.25]\n",
      "   [158.   148.   159.  ]]\n",
      "\n",
      "  ...\n",
      "\n",
      "  [[212.75 204.75 215.75]\n",
      "   [214.25 206.25 217.25]\n",
      "   [205.25 197.25 208.25]\n",
      "   ...\n",
      "   [207.5  199.5  210.5 ]\n",
      "   [202.75 194.75 205.75]\n",
      "   [201.5  193.5  204.5 ]]\n",
      "\n",
      "  [[215.75 207.75 218.75]\n",
      "   [219.25 211.25 222.25]\n",
      "   [210.5  202.5  213.5 ]\n",
      "   ...\n",
      "   [209.   201.   212.  ]\n",
      "   [203.   195.   206.  ]\n",
      "   [205.25 197.25 208.25]]\n",
      "\n",
      "  [[211.   203.   214.  ]\n",
      "   [208.5  200.5  211.5 ]\n",
      "   [213.25 205.25 216.25]\n",
      "   ...\n",
      "   [212.25 204.25 215.25]\n",
      "   [202.25 194.25 205.25]\n",
      "   [204.5  196.5  207.5 ]]]], shape=(32, 128, 128, 3), dtype=float32)\n",
      "tf.Tensor(\n",
      "[[0. 0. 0. ... 0. 0. 0.]\n",
      " [0. 0. 0. ... 0. 1. 0.]\n",
      " [0. 0. 0. ... 0. 0. 0.]\n",
      " ...\n",
      " [0. 0. 0. ... 0. 0. 0.]\n",
      " [0. 0. 0. ... 0. 0. 0.]\n",
      " [0. 0. 0. ... 0. 0. 0.]], shape=(32, 38), dtype=float32)\n"
     ]
    }
   ],
   "source": [
    "for x,y in training_dataset:\n",
    "    print(x)\n",
    "    print(y)\n",
    "    break"
   ]
  },
  {
   "cell_type": "code",
   "execution_count": 10,
   "id": "98f11141-4ffb-4bf0-af01-3925f221827b",
   "metadata": {},
   "outputs": [],
   "source": [
    "from tensorflow.keras.layers import Dense,Conv2D,MaxPool2D,Flatten,Dropout\n",
    "from tensorflow.keras.models import Sequential"
   ]
  },
  {
   "cell_type": "code",
   "execution_count": 11,
   "id": "a04a56e3-cb5a-4257-adcf-07f37010978d",
   "metadata": {},
   "outputs": [],
   "source": [
    "model = Sequential()"
   ]
  },
  {
   "cell_type": "code",
   "execution_count": 12,
   "id": "8c209f64-6f22-4251-a714-6e699b76aa00",
   "metadata": {},
   "outputs": [],
   "source": [
    "### adding convolusion layer\n"
   ]
  },
  {
   "cell_type": "code",
   "execution_count": 13,
   "id": "841353af-28ff-4c24-9c88-b21e33720cdb",
   "metadata": {},
   "outputs": [],
   "source": [
    "model.add(Conv2D(filters=32, kernel_size=3, padding='same', activation='relu', input_shape=[128, 128, 3]))\n",
    "model.add(Conv2D(filters=32, kernel_size=3, padding='same', activation='relu'))\n",
    "model.add(MaxPool2D(pool_size=2, strides=2))"
   ]
  },
  {
   "cell_type": "code",
   "execution_count": 14,
   "id": "ed00b8ac-9043-4d92-bf6f-67c85b1e00e3",
   "metadata": {},
   "outputs": [],
   "source": [
    "model.add(Conv2D(filters=64, kernel_size=3, padding='same', activation='relu'))\n",
    "model.add(Conv2D(filters=64, kernel_size=3, padding='same', activation='relu'))\n",
    "model.add(MaxPool2D(pool_size=2, strides=2))"
   ]
  },
  {
   "cell_type": "code",
   "execution_count": 15,
   "id": "dc3f57be-29dc-4d6f-8dd4-2f2c99960e96",
   "metadata": {},
   "outputs": [],
   "source": [
    "model.add(Conv2D(filters=128, kernel_size=3, padding='same', activation='relu'))\n",
    "model.add(Conv2D(filters=128, kernel_size=3, padding='same', activation='relu'))\n",
    "model.add(MaxPool2D(pool_size=2, strides=2))"
   ]
  },
  {
   "cell_type": "code",
   "execution_count": 16,
   "id": "6b6f94d3-2807-4549-96c0-216f5e315a33",
   "metadata": {},
   "outputs": [],
   "source": [
    "# model.add(Conv2D(filters=256, kernel_size=3, padding='same', activation='relu'))\n",
    "# model.add(Conv2D(filters=256, kernel_size=3, padding='same', activation='relu'))\n",
    "# model.add(MaxPool2D(pool_size=2, strides=2))"
   ]
  },
  {
   "cell_type": "code",
   "execution_count": 17,
   "id": "a2606d1c",
   "metadata": {},
   "outputs": [],
   "source": [
    "# model.add(Conv2D(filters=512, kernel_size=3, padding='same', activation='relu'))\n",
    "# model.add(Conv2D(filters=512, kernel_size=3, padding='same', activation='relu'))\n",
    "# model.add(MaxPool2D(pool_size=2, strides=2))"
   ]
  },
  {
   "cell_type": "code",
   "execution_count": null,
   "id": "12709383",
   "metadata": {},
   "outputs": [],
   "source": []
  },
  {
   "cell_type": "code",
   "execution_count": 18,
   "id": "591cff12",
   "metadata": {},
   "outputs": [],
   "source": [
    "# model.add(Dropout(0.25))\n",
    "## model is not underfitting"
   ]
  },
  {
   "cell_type": "code",
   "execution_count": 19,
   "id": "9d5502a0-79ee-46ab-b65e-15b3e098452d",
   "metadata": {},
   "outputs": [],
   "source": [
    "model.add(Flatten())"
   ]
  },
  {
   "cell_type": "code",
   "execution_count": 20,
   "id": "2bd99c2d-4502-4f98-b051-730d8295d314",
   "metadata": {},
   "outputs": [],
   "source": [
    "model.add(Dense(units=1500,activation='relu'))"
   ]
  },
  {
   "cell_type": "code",
   "execution_count": 21,
   "id": "ab080480",
   "metadata": {},
   "outputs": [],
   "source": [
    "# model.add(Dropout(0.4))\n",
    "### model is not under fitting"
   ]
  },
  {
   "cell_type": "code",
   "execution_count": 22,
   "id": "5fcc4e24-a192-4403-9fff-c996107b537b",
   "metadata": {},
   "outputs": [],
   "source": [
    "model.add(Dense(units=38,activation='softmax'))"
   ]
  },
  {
   "cell_type": "code",
   "execution_count": 23,
   "id": "57b10df4-ea35-4a39-b506-be342d09ce4c",
   "metadata": {},
   "outputs": [],
   "source": [
    "## model compile"
   ]
  },
  {
   "cell_type": "code",
   "execution_count": 24,
   "id": "b720e85b-9912-4a20-a347-5f4b6cb5edc9",
   "metadata": {},
   "outputs": [],
   "source": [
    "model.compile(optimizer='adam', loss='categorical_crossentropy', metrics=['accuracy'])"
   ]
  },
  {
   "cell_type": "code",
   "execution_count": 25,
   "id": "c3534e50-f61a-45ff-ab8a-23dd1ae7bf2d",
   "metadata": {},
   "outputs": [
    {
     "name": "stdout",
     "output_type": "stream",
     "text": [
      "Model: \"sequential\"\n",
      "_________________________________________________________________\n",
      " Layer (type)                Output Shape              Param #   \n",
      "=================================================================\n",
      " conv2d (Conv2D)             (None, 128, 128, 32)      896       \n",
      "                                                                 \n",
      " conv2d_1 (Conv2D)           (None, 128, 128, 32)      9248      \n",
      "                                                                 \n",
      " max_pooling2d (MaxPooling2D  (None, 64, 64, 32)       0         \n",
      " )                                                               \n",
      "                                                                 \n",
      " conv2d_2 (Conv2D)           (None, 64, 64, 64)        18496     \n",
      "                                                                 \n",
      " conv2d_3 (Conv2D)           (None, 64, 64, 64)        36928     \n",
      "                                                                 \n",
      " max_pooling2d_1 (MaxPooling  (None, 32, 32, 64)       0         \n",
      " 2D)                                                             \n",
      "                                                                 \n",
      " conv2d_4 (Conv2D)           (None, 32, 32, 128)       73856     \n",
      "                                                                 \n",
      " conv2d_5 (Conv2D)           (None, 32, 32, 128)       147584    \n",
      "                                                                 \n",
      " max_pooling2d_2 (MaxPooling  (None, 16, 16, 128)      0         \n",
      " 2D)                                                             \n",
      "                                                                 \n",
      " flatten (Flatten)           (None, 32768)             0         \n",
      "                                                                 \n",
      " dense (Dense)               (None, 1500)              49153500  \n",
      "                                                                 \n",
      " dense_1 (Dense)             (None, 38)                57038     \n",
      "                                                                 \n",
      "=================================================================\n",
      "Total params: 49,497,546\n",
      "Trainable params: 49,497,546\n",
      "Non-trainable params: 0\n",
      "_________________________________________________________________\n"
     ]
    }
   ],
   "source": [
    "model.summary()"
   ]
  },
  {
   "cell_type": "code",
   "execution_count": null,
   "id": "7c58c7e4-c521-4e83-84a5-9f83d70f9567",
   "metadata": {},
   "outputs": [],
   "source": []
  },
  {
   "cell_type": "code",
   "execution_count": 205,
   "id": "de79624d-2d32-48ba-825e-f423f340f88d",
   "metadata": {},
   "outputs": [
    {
     "name": "stdout",
     "output_type": "stream",
     "text": [
      "Epoch 1/10\n"
     ]
    },
    {
     "name": "stdout",
     "output_type": "stream",
     "text": [
      "2197/2197 [==============================] - 118s 53ms/step - loss: 1.0698 - accuracy: 0.7064 - val_loss: 0.4497 - val_accuracy: 0.8556\n",
      "Epoch 2/10\n",
      "2197/2197 [==============================] - 125s 57ms/step - loss: 0.3473 - accuracy: 0.8883 - val_loss: 0.4242 - val_accuracy: 0.8685\n",
      "Epoch 3/10\n",
      "2197/2197 [==============================] - 137s 62ms/step - loss: 0.2231 - accuracy: 0.9281 - val_loss: 0.3034 - val_accuracy: 0.9082\n",
      "Epoch 4/10\n",
      "2197/2197 [==============================] - 118s 54ms/step - loss: 0.1699 - accuracy: 0.9448 - val_loss: 0.3129 - val_accuracy: 0.9142\n",
      "Epoch 5/10\n",
      "2197/2197 [==============================] - 114s 52ms/step - loss: 0.1358 - accuracy: 0.9566 - val_loss: 0.4119 - val_accuracy: 0.8965\n",
      "Epoch 6/10\n",
      "2197/2197 [==============================] - 113s 51ms/step - loss: 0.1250 - accuracy: 0.9607 - val_loss: 0.4496 - val_accuracy: 0.8908\n",
      "Epoch 7/10\n",
      "2197/2197 [==============================] - 111s 50ms/step - loss: 0.1181 - accuracy: 0.9634 - val_loss: 0.4682 - val_accuracy: 0.8922\n",
      "Epoch 8/10\n",
      "2197/2197 [==============================] - 117s 53ms/step - loss: 0.1103 - accuracy: 0.9666 - val_loss: 0.3689 - val_accuracy: 0.9092\n",
      "Epoch 9/10\n",
      "2197/2197 [==============================] - 113s 51ms/step - loss: 0.1018 - accuracy: 0.9702 - val_loss: 0.4550 - val_accuracy: 0.8904\n",
      "Epoch 10/10\n",
      "2197/2197 [==============================] - 112s 51ms/step - loss: 0.0961 - accuracy: 0.9719 - val_loss: 0.4737 - val_accuracy: 0.8919\n"
     ]
    }
   ],
   "source": [
    "traingin_history = model.fit(x = training_dataset ,validation_data = validation_dataset ,epochs=10) "
   ]
  },
  {
   "cell_type": "code",
   "execution_count": 206,
   "id": "5a892adb-e1cd-4939-b9c2-2a22a55179e0",
   "metadata": {},
   "outputs": [],
   "source": [
    "training_history = traingin_history"
   ]
  },
  {
   "cell_type": "code",
   "execution_count": 207,
   "id": "f31e2330-9905-4bdb-9c63-30eaf2af234d",
   "metadata": {},
   "outputs": [
    {
     "name": "stdout",
     "output_type": "stream",
     "text": [
      "2197/2197 [==============================] - 38s 17ms/step - loss: 0.0958 - accuracy: 0.9702\n"
     ]
    }
   ],
   "source": [
    "train_acc , train_loss = model.evaluate(training_dataset)"
   ]
  },
  {
   "cell_type": "code",
   "execution_count": 208,
   "id": "d13982b0",
   "metadata": {},
   "outputs": [
    {
     "name": "stdout",
     "output_type": "stream",
     "text": [
      "0.09576242417097092 0.97022545337677\n"
     ]
    }
   ],
   "source": [
    "print(train_acc , train_loss)"
   ]
  },
  {
   "cell_type": "code",
   "execution_count": 209,
   "id": "5388c072",
   "metadata": {},
   "outputs": [
    {
     "name": "stdout",
     "output_type": "stream",
     "text": [
      "550/550 [==============================] - 11s 20ms/step - loss: 0.4737 - accuracy: 0.8919\n"
     ]
    }
   ],
   "source": [
    "valid_acc,valid_loss = model.evaluate(validation_dataset)"
   ]
  },
  {
   "cell_type": "code",
   "execution_count": 210,
   "id": "2e0cbe68",
   "metadata": {},
   "outputs": [
    {
     "name": "stdout",
     "output_type": "stream",
     "text": [
      "0.47369256615638733 0.8918734192848206\n"
     ]
    }
   ],
   "source": [
    "print(valid_acc,valid_loss)"
   ]
  },
  {
   "cell_type": "code",
   "execution_count": 211,
   "id": "31dbdbcb",
   "metadata": {},
   "outputs": [],
   "source": [
    "## saving the model"
   ]
  },
  {
   "cell_type": "code",
   "execution_count": 212,
   "id": "070d5256",
   "metadata": {},
   "outputs": [],
   "source": [
    "###model.save('PlantDiseaseModel.h5')"
   ]
  },
  {
   "cell_type": "code",
   "execution_count": 213,
   "id": "33ac59c0",
   "metadata": {},
   "outputs": [],
   "source": [
    "###model.save('PlantDiseaseModel.keras')"
   ]
  },
  {
   "cell_type": "code",
   "execution_count": null,
   "id": "5b3a35a1",
   "metadata": {},
   "outputs": [],
   "source": []
  },
  {
   "cell_type": "markdown",
   "id": "046b9536",
   "metadata": {},
   "source": [
    "visualisation of accuracy"
   ]
  },
  {
   "cell_type": "code",
   "execution_count": 214,
   "id": "c392e36a",
   "metadata": {},
   "outputs": [
    {
     "data": {
      "text/plain": [
       "{'loss': [1.069813847541809,\n",
       "  0.34725674986839294,\n",
       "  0.2230861485004425,\n",
       "  0.1699240356683731,\n",
       "  0.135846346616745,\n",
       "  0.12501326203346252,\n",
       "  0.11809656023979187,\n",
       "  0.11032095551490784,\n",
       "  0.10181626677513123,\n",
       "  0.09609898179769516],\n",
       " 'accuracy': [0.7064229249954224,\n",
       "  0.8882708549499512,\n",
       "  0.9281172156333923,\n",
       "  0.9448466897010803,\n",
       "  0.956568717956543,\n",
       "  0.9607226848602295,\n",
       "  0.9633544087409973,\n",
       "  0.9665694832801819,\n",
       "  0.9701685905456543,\n",
       "  0.971932590007782],\n",
       " 'val_loss': [0.4497023820877075,\n",
       "  0.4241756200790405,\n",
       "  0.3033958971500397,\n",
       "  0.312920480966568,\n",
       "  0.41191211342811584,\n",
       "  0.44955185055732727,\n",
       "  0.46821796894073486,\n",
       "  0.3688713014125824,\n",
       "  0.4550260901451111,\n",
       "  0.47369226813316345],\n",
       " 'val_accuracy': [0.8556225895881653,\n",
       "  0.86854088306427,\n",
       "  0.9082062244415283,\n",
       "  0.914181649684906,\n",
       "  0.8965399265289307,\n",
       "  0.8908490538597107,\n",
       "  0.8922148942947388,\n",
       "  0.9091736674308777,\n",
       "  0.8903937935829163,\n",
       "  0.8918734192848206]}"
      ]
     },
     "execution_count": 214,
     "metadata": {},
     "output_type": "execute_result"
    }
   ],
   "source": [
    "training_history.history"
   ]
  },
  {
   "cell_type": "code",
   "execution_count": 215,
   "id": "24b6b7df",
   "metadata": {},
   "outputs": [],
   "source": [
    "import matplotlib.pyplot as plt"
   ]
  },
  {
   "cell_type": "code",
   "execution_count": 216,
   "id": "4a521cbd",
   "metadata": {},
   "outputs": [
    {
     "data": {
      "image/png": "[encoded data removed]",
      "text/plain": [
       "<Figure size 640x480 with 1 Axes>"
      ]
     },
     "metadata": {},
     "output_type": "display_data"
    }
   ],
   "source": [
    "epochs = [i for i in range(1,11)]\n",
    "plt.plot(epochs,training_history.history['accuracy'],color='blue',label = 'training')\n",
    "plt.plot(epochs,training_history.history['val_accuracy'], color='red', label='validation')  # Added label for validation accuracy)\n",
    "plt.xlabel('epochs')\n",
    "plt.ylabel('accuracy')\n",
    "plt.legend() \n",
    "plt.show()"
   ]
  },
  {
   "cell_type": "code",
   "execution_count": 219,
   "id": "258260e6",
   "metadata": {},
   "outputs": [
    {
     "data": {
      "image/png": "[encoded data removed]",
      "text/plain": [
       "<Figure size 640x480 with 1 Axes>"
      ]
     },
     "metadata": {},
     "output_type": "display_data"
    }
   ],
   "source": [
    "epochs = [i for i in range(1,11)]\n",
    "plt.plot(epochs,training_history.history['loss'],color='blue',label = 'training')\n",
    "plt.plot(epochs,training_history.history['val_loss'], color='red', label='validation')  # Added label for validation accuracy)\n",
    "plt.xlabel('epochs')\n",
    "plt.ylabel('accuracy')\n",
    "plt.legend() \n",
    "plt.show()\n"
   ]
  },
  {
   "cell_type": "code",
   "execution_count": 217,
   "id": "29019491",
   "metadata": {},
   "outputs": [
    {
     "name": "stdout",
     "output_type": "stream",
     "text": [
      "Found 17572 files belonging to 38 classes.\n"
     ]
    }
   ],
   "source": [
    "test_dataset =  tf.keras.utils.image_dataset_from_directory(\n",
    "    'valid',\n",
    "    labels=\"inferred\",\n",
    "    label_mode=\"categorical\",  # Change label_mode to \"categorical\" for multi-class classification\n",
    "    class_names=None,\n",
    "    color_mode=\"rgb\",\n",
    "    batch_size=32,\n",
    "    image_size=(128, 128),\n",
    "    shuffle=False,\n",
    "    seed=None,\n",
    "    validation_split=None,\n",
    "    subset=None,\n",
    "    interpolation=\"bilinear\",\n",
    "    follow_links=False,\n",
    "    crop_to_aspect_ratio=False,\n",
    ")"
   ]
  },
  {
   "cell_type": "code",
   "execution_count": 218,
   "id": "be70d156",
   "metadata": {},
   "outputs": [
    {
     "name": "stdout",
     "output_type": "stream",
     "text": [
      "550/550 [==============================] - 10s 18ms/step\n"
     ]
    }
   ],
   "source": [
    "y_pred = model.predict(test_dataset)"
   ]
  },
  {
   "cell_type": "code",
   "execution_count": null,
   "id": "387bdbc6",
   "metadata": {},
   "outputs": [],
   "source": []
  }
 ],
 "metadata": {
  "kernelspec": {
   "display_name": "tf",
   "language": "python",
   "name": "python3"
  },
  "language_info": {
   "codemirror_mode": {
    "name": "ipython",
    "version": 3
   },
   "file_extension": ".py",
   "mimetype": "text/x-python",
   "name": "python",
   "nbconvert_exporter": "python",
   "pygments_lexer": "ipython3",
   "version": "3.9.19"
  }
 },
 "nbformat": 4,
 "nbformat_minor": 5
}
